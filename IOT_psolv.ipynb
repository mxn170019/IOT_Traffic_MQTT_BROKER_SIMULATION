{
 "cells": [
  {
   "cell_type": "code",
   "execution_count": 1,
   "metadata": {},
   "outputs": [
    {
     "data": {
      "text/html": [
       "<style>.container { width:100% !important; }</style>"
      ],
      "text/plain": [
       "<IPython.core.display.HTML object>"
      ]
     },
     "metadata": {},
     "output_type": "display_data"
    }
   ],
   "source": [
    "from IPython.core.display import display, HTML\n",
    "display(HTML(\"<style>.container { width:100% !important; }</style>\"))\n"
   ]
  },
  {
   "cell_type": "code",
   "execution_count": 2,
   "metadata": {},
   "outputs": [],
   "source": [
    "import matplotlib.pyplot as plt\n",
    "import matplotlib.animation as animation\n",
    "import time\n",
    "\n",
    "fig = plt.figure()\n",
    "ax1 = fig.add_subplot(1,1,1)\n",
    "\n",
    "def animate(x_axis,ls):\n",
    "    xar = x_axis\n",
    "    yar = ls\n",
    "    ax1.clear()\n",
    "    ax1.plot(xar,yar)\n",
    "    \n",
    "\n"
   ]
  },
  {
   "cell_type": "code",
   "execution_count": 3,
   "metadata": {},
   "outputs": [
    {
     "data": {
      "image/png": "[encoded data removed]",
      "text/plain": [
       "<Figure size 432x288 with 1 Axes>"
      ]
     },
     "metadata": {
      "needs_background": "light"
     },
     "output_type": "display_data"
    }
   ],
   "source": [
    "import threading\n",
    "import time\n",
    "import datetime\n",
    "import json\n",
    "import numpy as np\n",
    "from ddict import DotAccessDict\n",
    "\n",
    "device_config = 'config_device_1.txt'\n",
    "device_id = 'config_device_1'\n",
    "\n",
    "with open(device_config) as json_file:\n",
    "    conf = DotAccessDict(json.load(json_file))\n",
    "    conf_device = conf.config_device_1[0]\n",
    "i = 0 \n",
    "ls =np.array([])\n",
    "x_axis = np.array([])\n",
    "def printit(): \n",
    "    t = threading.Timer((60/conf_device.freq_per_minute), printit)\n",
    "    t.start()\n",
    "    ts = time.time()\n",
    "    st = datetime.datetime.fromtimestamp(ts).strftime('%Y-%m-%d %H:%M:%S')\n",
    "    global i \n",
    "    global ls\n",
    "    global x_axis\n",
    "    \n",
    "    if np.count_nonzero(ls>=conf_device.thershold) >= conf_device.extreme_count:\n",
    "        x = np.random.randint(low=conf_device.minima, high=conf_device.max_1)\n",
    "        ls = np.append(ls,x)\n",
    "    else:\n",
    "        x = np.random.randint(low=conf_device.minima, high=conf_device.max_2)\n",
    "        ls = np.append(ls,x)\n",
    "        \n",
    "    i += 1   \n",
    "    x_axis = np.append(x_axis,i)\n",
    "    measure_value = x\n",
    "    output = {'device_id':conf_device.id,\n",
    "            'measure_value':measure_value,\n",
    "            'time_stamp':st,\n",
    "            'term':i,\n",
    "            'count_threshold':np.count_nonzero(ls>=conf_device.thershold),\n",
    "             'ls':ls\n",
    "             }\n",
    "#     print(output)\n",
    "    if i >=conf_device.loops:\n",
    "        t.cancel()\n",
    "    fig = plt.figure()\n",
    "    ax1 = fig.add_subplot(1,1,1)\n",
    "\n",
    "    def animate(x_axis,ls):\n",
    "        xar = x_axis\n",
    "        yar = ls\n",
    "        ax1.clear()\n",
    "        ax1.plot(xar,yar)\n",
    "    \n",
    "\n",
    "    animation.FuncAnimation(fig, animate(x_axis,ls), interval=1)\n",
    "    plt.show()\n",
    "printit()\n"
   ]
  },
  {
   "cell_type": "code",
   "execution_count": null,
   "metadata": {},
   "outputs": [],
   "source": [
    "# ani = animation.FuncAnimation(fig, animate, interval=1000)\n",
    "# plt.show()\n",
    "# import matplotlib.pyplot as plt\n",
    "# import matplotlib.animation as animation\n",
    "# import time\n",
    "\n",
    "# fig = plt.figure()\n",
    "# ax1 = fig.add_subplot(1,1,1)\n",
    "\n",
    "# def animate(i):\n",
    "#     pullData = open(\"sampleText.txt\",\"r\").read()\n",
    "#     dataArray = pullData.split('\\n')\n",
    "#     xar = []\n",
    "#     yar = []\n",
    "#     for eachLine in dataArray:\n",
    "#         if len(eachLine)>1:\n",
    "#             x,y = eachLine.split(',')\n",
    "#             xar.append(int(x))\n",
    "#             yar.append(int(y))\n",
    "#     ax1.clear()\n",
    "#     ax1.plot(xar,yar)\n",
    "# ani = animation.FuncAnimation(fig, animate, interval=1000)\n",
    "# plt.show()\n"
   ]
  },
  {
   "cell_type": "code",
   "execution_count": null,
   "metadata": {},
   "outputs": [],
   "source": [
    "ls"
   ]
  },
  {
   "cell_type": "code",
   "execution_count": 7,
   "metadata": {},
   "outputs": [],
   "source": [
    "# Program to show various ways to read and \n",
    "# write data in a file. \n",
    "file1 = open(\"myfile.txt\",\"a\") \n",
    "L = [\"74 1\"]  \n",
    "  \n",
    "# \\n is placed to indicate EOL (End of Line) \n",
    "file1.writelines(L) \n",
    "file1.close() #to change file access modes \n",
    "  \n",
    "# file1 = open(\"myfile.txt\",\"r+\")  \n",
    "  \n",
    "# print \"Output of Read function is \"\n",
    "# print file1.read() \n",
    "# print\n",
    "  \n",
    "# # seek(n) takes the file handle to the nth \n",
    "# # bite from the beginning. \n",
    "# file1.seek(0)  \n",
    "  \n",
    "# print \"Output of Readline function is \"\n",
    "# print file1.readline() \n",
    "# print\n",
    "  \n",
    "# file1.seek(0) \n",
    "  \n",
    "# # To show difference between read and readline \n",
    "# print \"Output of Read(9) function is \"\n",
    "# print file1.read(9) \n",
    "# print\n",
    "  \n",
    "# file1.seek(0) \n",
    "  \n",
    "# print \"Output of Readline(9) function is \"\n",
    "# print file1.readline(9) \n",
    "  \n",
    "# file1.seek(0) \n",
    "# # readlines function \n",
    "# print \"Output of Readlines function is \"\n",
    "# print file1.readlines() \n",
    "# print\n",
    "# file1.close() "
   ]
  },
  {
   "cell_type": "code",
   "execution_count": null,
   "metadata": {},
   "outputs": [],
   "source": []
  },
  {
   "cell_type": "code",
   "execution_count": null,
   "metadata": {},
   "outputs": [],
   "source": []
  }
 ],
 "metadata": {
  "kernelspec": {
   "display_name": "Python 3",
   "language": "python",
   "name": "python3"
  },
  "language_info": {
   "codemirror_mode": {
    "name": "ipython",
    "version": 3
   },
   "file_extension": ".py",
   "mimetype": "text/x-python",
   "name": "python",
   "nbconvert_exporter": "python",
   "pygments_lexer": "ipython3",
   "version": "3.7.2"
  }
 },
 "nbformat": 4,
 "nbformat_minor": 2
}
