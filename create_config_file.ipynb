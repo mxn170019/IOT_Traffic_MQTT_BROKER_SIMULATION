{
 "cells": [
  {
   "cell_type": "code",
   "execution_count": 6,
   "metadata": {},
   "outputs": [],
   "source": [
    "#!/usr/bin/env python\n",
    "# coding: utf-8\n",
    "\n",
    "# In[48]:\n",
    "\n",
    "i = 6\n",
    "#Generate Config file\n",
    "import json\n",
    "\n",
    "device_id = \"config_device_\"+str(i)\n",
    "d_id = 'device_'+str(i)\n",
    "data = {}\n",
    "data[device_id] = []\n",
    "data[device_id].append({\n",
    "    'id':d_id,\n",
    "    'freq_per_minute': 10,\n",
    "    'minima': 60,\n",
    "    'max_1':75,\n",
    "    'max_2':85,\n",
    "    'thershold':75,\n",
    "    'extreme_count':5})\n",
    "\n",
    "with open(device_id+\".txt\", 'w') as outfile:\n",
    "    json.dump(data, outfile)\n",
    "\n",
    "\n",
    "\n"
   ]
  },
  {
   "cell_type": "code",
   "execution_count": null,
   "metadata": {},
   "outputs": [],
   "source": []
  }
 ],
 "metadata": {
  "kernelspec": {
   "display_name": "Python 3",
   "language": "python",
   "name": "python3"
  },
  "language_info": {
   "codemirror_mode": {
    "name": "ipython",
    "version": 3
   },
   "file_extension": ".py",
   "mimetype": "text/x-python",
   "name": "python",
   "nbconvert_exporter": "python",
   "pygments_lexer": "ipython3",
   "version": "3.7.3"
  }
 },
 "nbformat": 4,
 "nbformat_minor": 2
}
