{
 "cells": [
  {
   "cell_type": "code",
   "execution_count": 2,
   "metadata": {},
   "outputs": [
    {
     "name": "stdout",
     "output_type": "stream",
     "text": [
      "{'device_id': 'device_1', 'measure_value': 82, 'time_stamp': '2019-08-20 15:05:47', 'term': 1, 'count_threshold': 1, 'ls': array([82.])}\n",
      "{'device_id': 'device_1', 'measure_value': 63, 'time_stamp': '2019-08-20 15:05:57', 'term': 2, 'count_threshold': 1, 'ls': array([82., 63.])}\n",
      "{'device_id': 'device_1', 'measure_value': 60, 'time_stamp': '2019-08-20 15:06:07', 'term': 3, 'count_threshold': 1, 'ls': array([82., 63., 60.])}\n",
      "{'device_id': 'device_1', 'measure_value': 81, 'time_stamp': '2019-08-20 15:06:17', 'term': 4, 'count_threshold': 2, 'ls': array([82., 63., 60., 81.])}\n",
      "{'device_id': 'device_1', 'measure_value': 82, 'time_stamp': '2019-08-20 15:06:27', 'term': 5, 'count_threshold': 3, 'ls': array([82., 63., 60., 81., 82.])}\n",
      "{'device_id': 'device_1', 'measure_value': 64, 'time_stamp': '2019-08-20 15:06:37', 'term': 6, 'count_threshold': 3, 'ls': array([82., 63., 60., 81., 82., 64.])}\n",
      "{'device_id': 'device_1', 'measure_value': 78, 'time_stamp': '2019-08-20 15:06:47', 'term': 7, 'count_threshold': 4, 'ls': array([82., 63., 60., 81., 82., 64., 78.])}\n",
      "{'device_id': 'device_1', 'measure_value': 84, 'time_stamp': '2019-08-20 15:06:57', 'term': 8, 'count_threshold': 5, 'ls': array([82., 63., 60., 81., 82., 64., 78., 84.])}\n",
      "{'device_id': 'device_1', 'measure_value': 71, 'time_stamp': '2019-08-20 15:07:07', 'term': 9, 'count_threshold': 5, 'ls': array([82., 63., 60., 81., 82., 64., 78., 84., 71.])}\n",
      "{'device_id': 'device_1', 'measure_value': 65, 'time_stamp': '2019-08-20 15:07:17', 'term': 10, 'count_threshold': 5, 'ls': array([82., 63., 60., 81., 82., 64., 78., 84., 71., 65.])}\n"
     ]
    }
   ],
   "source": [
    "import threading\n",
    "import time\n",
    "import datetime\n",
    "import json\n",
    "import numpy as np\n",
    "from ddict import DotAccessDict\n",
    "\n",
    "device_config = 'config_device_1.txt'\n",
    "device_id = 'config_device_1'\n",
    "\n",
    "with open(device_config) as json_file:\n",
    "    conf = DotAccessDict(json.load(json_file))\n",
    "    conf_device = conf.config_device_1[0]\n",
    "i = 0 \n",
    "ls =np.array([])\n",
    "\n",
    "def printit(): \n",
    "    t = threading.Timer((60/conf_device.freq_per_minute), printit)\n",
    "    t.start()\n",
    "    ts = time.time()\n",
    "    st = datetime.datetime.fromtimestamp(ts).strftime('%Y-%m-%d %H:%M:%S')\n",
    "    global i \n",
    "    global ls\n",
    "    \n",
    "    if np.count_nonzero(ls>=conf_device.thershold) >= conf_device.extreme_count:\n",
    "        x = np.random.randint(low=conf_device.minima, high=conf_device.max_1)\n",
    "        ls = np.append(ls,x)\n",
    "    else:\n",
    "        x = np.random.randint(low=conf_device.minima, high=conf_device.max_2)\n",
    "        ls = np.append(ls,x)\n",
    "        \n",
    "    i += 1   \n",
    "    measure_value = x\n",
    "    output = {'device_id':conf_device.id,\n",
    "            'measure_value':measure_value,\n",
    "            'time_stamp':st,\n",
    "            'term':i,\n",
    "            'count_threshold':np.count_nonzero(ls>=conf_device.thershold),\n",
    "             'ls':ls\n",
    "             }\n",
    "    print(output)\n",
    "    if i >=conf_device.loops:\n",
    "        t.cancel()\n",
    "printit()"
   ]
  },
  {
   "cell_type": "code",
   "execution_count": null,
   "metadata": {},
   "outputs": [],
   "source": []
  },
  {
   "cell_type": "code",
   "execution_count": null,
   "metadata": {},
   "outputs": [],
   "source": []
  },
  {
   "cell_type": "code",
   "execution_count": null,
   "metadata": {},
   "outputs": [],
   "source": []
  }
 ],
 "metadata": {
  "kernelspec": {
   "display_name": "Python 3",
   "language": "python",
   "name": "python3"
  },
  "language_info": {
   "codemirror_mode": {
    "name": "ipython",
    "version": 3
   },
   "file_extension": ".py",
   "mimetype": "text/x-python",
   "name": "python",
   "nbconvert_exporter": "python",
   "pygments_lexer": "ipython3",
   "version": "3.7.2"
  }
 },
 "nbformat": 4,
 "nbformat_minor": 2
}
