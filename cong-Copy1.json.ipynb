{
 "cells": [
  {
   "cell_type": "code",
   "execution_count": 40,
   "metadata": {},
   "outputs": [],
   "source": [
    "#!pip3 install ddict\n",
    "import json\n",
    "from ddict import DotAccessDict\n",
    "data = {}\n",
    "data['people'] = []\n",
    "data['people'].append({\n",
    "    'name': 'Scott',\n",
    "    'website': 'stackabuse.com',\n",
    "    'fom': 'Nebraska',\n",
    "})\n",
    "data['people'].append({\n",
    "    'name': 'Larry',\n",
    "    'website': 'google.com',\n",
    "    'fom': 'Michigan',\n",
    "})\n",
    "data['people'].append({\n",
    "    'name': 'Tim',\n",
    "    'website': 'apple.com',\n",
    "    'fom': 'Alabama',\n",
    "})\n",
    "\n",
    "with open('data.txt', 'w') as outfile:\n",
    "    json.dump(data, outfile)"
   ]
  },
  {
   "cell_type": "code",
   "execution_count": 41,
   "metadata": {},
   "outputs": [
    {
     "name": "stdout",
     "output_type": "stream",
     "text": [
      "Scott\n",
      "stackabuse.com\n",
      "Nebraska\n",
      "\n",
      "Larry\n",
      "google.com\n",
      "Michigan\n",
      "\n",
      "Tim\n",
      "apple.com\n",
      "Alabama\n",
      "\n"
     ]
    }
   ],
   "source": [
    "with open('data.txt') as json_file:\n",
    "    data = DotAccessDict(json.load(json_file))\n",
    "    for p in data.people:\n",
    "        print(p.name)\n",
    "        print(p.website)\n",
    "        print(p.fom)\n",
    "        print(\"\")"
   ]
  },
  {
   "cell_type": "code",
   "execution_count": 28,
   "metadata": {},
   "outputs": [
    {
     "name": "stdout",
     "output_type": "stream",
     "text": [
      "Collecting ddict\n",
      "  Downloading https://files.pythonhosted.org/packages/29/36/3874b2d5be3670ff4e9a9755412b0b5e3252ab26c889c392555c63b98680/ddict-0.1.3.tar.gz\n",
      "Building wheels for collected packages: ddict\n",
      "  Building wheel for ddict (setup.py) ... \u001b[?25ldone\n",
      "\u001b[?25h  Created wheel for ddict: filename=ddict-0.1.3-cp37-none-any.whl size=4029 sha256=195eec7a187177121ba18e59deb8628510099685257c0af18ac6c8b12cc8dd3d\n",
      "  Stored in directory: /Users/mandeep/Library/Caches/pip/wheels/28/40/05/9b267f30659701bff8183c214d53fa4388e1dd89c5cf94e1f9\n",
      "Successfully built ddict\n",
      "Installing collected packages: ddict\n",
      "Successfully installed ddict-0.1.3\n"
     ]
    }
   ],
   "source": [
    "with open('data.txt') as json_file:\n",
    "    data = DotAccessDict(json.load(json_file))\n",
    "    for p in data.people:\n",
    "        print(p.name)\n",
    "        print(p.website)\n",
    "        print(p.from)"
   ]
  },
  {
   "cell_type": "code",
   "execution_count": 29,
   "metadata": {},
   "outputs": [
    {
     "name": "stdout",
     "output_type": "stream",
     "text": [
      "bar\n",
      "{'bam': 'baz'}\n",
      "baz\n"
     ]
    }
   ],
   "source": [
    "\n",
    "\n"
   ]
  },
  {
   "cell_type": "code",
   "execution_count": 47,
   "metadata": {},
   "outputs": [],
   "source": [
    "#Generate Config file\n",
    "import json\n",
    "\n",
    "device_id = \"config_device_3\"\n",
    "data = {}\n",
    "data[device_id] = []\n",
    "data[device_id].append({\n",
    "    'id':'device_3',\n",
    "    'freq_per_minute': 6,\n",
    "    'loops': 20,\n",
    "    'minima': 60,\n",
    "    'max_1':75,\n",
    "    'max_2':85,\n",
    "    'thershold':75,\n",
    "    'extreme_count':5})\n",
    "\n",
    "with open(device_id+\".txt\", 'w') as outfile:\n",
    "    json.dump(data, outfile)"
   ]
  },
  {
   "cell_type": "code",
   "execution_count": null,
   "metadata": {},
   "outputs": [],
   "source": []
  }
 ],
 "metadata": {
  "kernelspec": {
   "display_name": "Python 3",
   "language": "python",
   "name": "python3"
  },
  "language_info": {
   "codemirror_mode": {
    "name": "ipython",
    "version": 3
   },
   "file_extension": ".py",
   "mimetype": "text/x-python",
   "name": "python",
   "nbconvert_exporter": "python",
   "pygments_lexer": "ipython3",
   "version": "3.7.2"
  }
 },
 "nbformat": 4,
 "nbformat_minor": 2
}
